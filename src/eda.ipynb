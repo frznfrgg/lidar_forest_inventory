{
 "cells": [
  {
   "cell_type": "code",
   "execution_count": null,
   "id": "feadf9b3",
   "metadata": {},
   "outputs": [],
   "source": [
    "import h5py\n",
    "import numpy as np\n",
    "import open3d as o3d\n",
    "from tqdm import tqdm"
   ]
  },
  {
   "cell_type": "markdown",
   "id": "2b97c261",
   "metadata": {},
   "source": [
    "## Extract data"
   ]
  },
  {
   "cell_type": "code",
   "execution_count": 18,
   "id": "950a162e",
   "metadata": {},
   "outputs": [
    {
     "name": "stderr",
     "output_type": "stream",
     "text": [
      "100%|██████████| 7/7 [00:18<00:00,  2.63s/it]\n"
     ]
    }
   ],
   "source": [
    "# load all .txt files into .h5 format\n",
    "colored_files = [\n",
    "    f\"../data/raw_data_1/gs100i_2025-07-11-20-26-43colormap_{i}.txt\" for i in range(7)\n",
    "]\n",
    "all_arrays = []\n",
    "for f in tqdm(colored_files):\n",
    "    data = np.loadtxt(f, skiprows=1)\n",
    "    xyzrgb = data[:, :6]\n",
    "    all_arrays.append(xyzrgb)\n",
    "all_arrays = np.vstack(all_arrays)\n",
    "processed_file = \"../data/processed_data/colored.h5\"\n",
    "with h5py.File(processed_file, \"w\") as h5f:\n",
    "    h5f.create_dataset(\"coordinates\", data=all_arrays[:, :3])\n",
    "    h5f.create_dataset(\"colors\", data=all_arrays[:, 3:])"
   ]
  },
  {
   "cell_type": "code",
   "execution_count": 31,
   "id": "613e68f8",
   "metadata": {},
   "outputs": [
    {
     "name": "stdout",
     "output_type": "stream",
     "text": [
      "(array([ -9.34500027, -34.02700043,  15.2840004 ]), array([ 90., 166., 254.]))\n",
      "(array([ -9.38700008, -32.91400146,  14.79399967]), array([ 91., 162., 252.]))\n",
      "(array([ -8.64599991, -28.54100037,  12.91600037]), array([151., 174., 139.]))\n",
      "(array([ -8.0010004 , -25.81699944,  11.68900013]), array([255., 249., 249.]))\n",
      "(array([ -7.94999981, -25.0720005 ,  11.38199997]), array([154., 174., 198.]))\n",
      "(array([ -7.90299988, -24.6439991 ,  11.20199966]), array([72., 90., 43.]))\n"
     ]
    }
   ],
   "source": [
    "# read from .h5\n",
    "with h5py.File(processed_file, \"r\") as h5f:\n",
    "    for i, row in enumerate(zip(h5f[\"coordinates\"], h5f[\"colors\"])):\n",
    "        print(row)\n",
    "        if i >= 5:\n",
    "            break"
   ]
  },
  {
   "cell_type": "markdown",
   "id": "3ef0fae5",
   "metadata": {},
   "source": [
    "## Visualization"
   ]
  },
  {
   "cell_type": "code",
   "execution_count": 47,
   "id": "57e28e00",
   "metadata": {},
   "outputs": [],
   "source": [
    "with h5py.File(processed_file, \"r\") as f:\n",
    "    coords = f[\"coordinates\"][:]\n",
    "    colors = f[\"colors\"][:]"
   ]
  },
  {
   "cell_type": "code",
   "execution_count": null,
   "id": "25a44432",
   "metadata": {},
   "outputs": [],
   "source": [
    "# render full scene\n",
    "pcd = o3d.geometry.PointCloud()\n",
    "pcd.points = o3d.utility.Vector3dVector(coords)\n",
    "pcd.colors = o3d.utility.Vector3dVector(colors / 255)\n",
    "o3d.visualization.draw_geometries([pcd])"
   ]
  },
  {
   "cell_type": "code",
   "execution_count": 66,
   "id": "5cbd79b7",
   "metadata": {},
   "outputs": [
    {
     "data": {
      "text/plain": [
       "(15207399, 3)"
      ]
     },
     "execution_count": 66,
     "metadata": {},
     "output_type": "execute_result"
    }
   ],
   "source": [
    "coords[(coords[:, 2] > 0) & (coords[:, 2] < 10)].shape"
   ]
  },
  {
   "cell_type": "code",
   "execution_count": 80,
   "id": "2b785064",
   "metadata": {},
   "outputs": [
    {
     "data": {
      "text/plain": [
       "(np.float64(-3.94799995), np.float64(46.77600098))"
      ]
     },
     "execution_count": 80,
     "metadata": {},
     "output_type": "execute_result"
    }
   ],
   "source": [
    "# max and min height\n",
    "coords[:, 2].min(), coords[:, 2].max()"
   ]
  },
  {
   "cell_type": "code",
   "execution_count": null,
   "id": "58c1e748",
   "metadata": {},
   "outputs": [],
   "source": [
    "# render only those dots that are >-2 and <0.3 (used for extracting stumps)\n",
    "pcd = o3d.geometry.PointCloud()\n",
    "pcd.points = o3d.utility.Vector3dVector(\n",
    "    coords[(coords[:, 2] > -2) & (coords[:, 2] < 0.3)]\n",
    ")\n",
    "pcd.colors = o3d.utility.Vector3dVector(\n",
    "    colors[(coords[:, 2] > -2) & (coords[:, 2] < 0.3)] / 255\n",
    ")\n",
    "o3d.visualization.draw_geometries([pcd])"
   ]
  },
  {
   "cell_type": "code",
   "execution_count": null,
   "id": "c2c2cf4f",
   "metadata": {},
   "outputs": [],
   "source": []
  }
 ],
 "metadata": {
  "kernelspec": {
   "display_name": "forest",
   "language": "python",
   "name": "python3"
  },
  "language_info": {
   "codemirror_mode": {
    "name": "ipython",
    "version": 3
   },
   "file_extension": ".py",
   "mimetype": "text/x-python",
   "name": "python",
   "nbconvert_exporter": "python",
   "pygments_lexer": "ipython3",
   "version": "3.10.18"
  }
 },
 "nbformat": 4,
 "nbformat_minor": 5
}
